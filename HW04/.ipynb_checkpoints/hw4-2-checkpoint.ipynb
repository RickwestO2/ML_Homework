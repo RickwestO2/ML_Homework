{
 "cells": [
  {
   "cell_type": "code",
   "execution_count": 1,
   "id": "9ada0811",
   "metadata": {},
   "outputs": [
    {
     "name": "stdout",
     "output_type": "stream",
     "text": [
      "WARNING:tensorflow:From C:\\Users\\gg750\\anaconda3\\Lib\\site-packages\\keras\\src\\losses.py:2976: The name tf.losses.sparse_softmax_cross_entropy is deprecated. Please use tf.compat.v1.losses.sparse_softmax_cross_entropy instead.\n",
      "\n"
     ]
    }
   ],
   "source": [
    "import os\n",
    "import numpy as np\n",
    "from tensorflow.keras.preprocessing import image\n",
    "from tensorflow.keras.models import Sequential\n",
    "from tensorflow.keras.layers import Conv2D, MaxPooling2D, Flatten, Dense\n",
    "from sklearn.metrics import confusion_matrix, roc_auc_score\n",
    "from sklearn.model_selection import train_test_split\n",
    "from sklearn.preprocessing import LabelBinarizer"
   ]
  },
  {
   "cell_type": "code",
   "execution_count": 2,
   "id": "779c55f1",
   "metadata": {},
   "outputs": [],
   "source": [
    "# 設定圖片資料夾路徑\n",
    "data_dir = \"\"  # 替換成實際的資料夾路徑\n",
    "\n",
    "# 設定圖片大小\n",
    "img_size = (128, 128)\n",
    "\n",
    "# 載入圖片資料\n",
    "cats_path = os.path.join(data_dir, \"reference/cats/\")\n",
    "dogs_path = os.path.join(data_dir, \"reference/dogs/\")\n",
    "\n",
    "# 載入貓和狗的圖片\n",
    "cats = [os.path.join(cats_path, img) for img in os.listdir(cats_path) if img.endswith(\".jpg\")]\n",
    "dogs = [os.path.join(dogs_path, img) for img in os.listdir(dogs_path) if img.endswith(\".jpg\")]"
   ]
  },
  {
   "cell_type": "code",
   "execution_count": 15,
   "id": "c954dd73",
   "metadata": {},
   "outputs": [
    {
     "name": "stdout",
     "output_type": "stream",
     "text": [
      "cats: 50\n",
      "dogs: 50\n"
     ]
    }
   ],
   "source": [
    "print(\"cats:\",len(cats))\n",
    "print(\"dogs:\",len(dogs))"
   ]
  },
  {
   "cell_type": "code",
   "execution_count": 17,
   "id": "a6be3508",
   "metadata": {},
   "outputs": [
    {
     "name": "stdout",
     "output_type": "stream",
     "text": [
      "['cat', 'cat', 'cat', 'cat', 'cat', 'cat', 'cat', 'cat', 'cat', 'cat', 'cat', 'cat', 'cat', 'cat', 'cat', 'cat', 'cat', 'cat', 'cat', 'cat', 'cat', 'cat', 'cat', 'cat', 'cat', 'cat', 'cat', 'cat', 'cat', 'cat', 'cat', 'cat', 'cat', 'cat', 'cat', 'cat', 'cat', 'cat', 'cat', 'cat', 'cat', 'cat', 'cat', 'cat', 'cat', 'cat', 'cat', 'cat', 'cat', 'cat', 'dog', 'dog', 'dog', 'dog', 'dog', 'dog', 'dog', 'dog', 'dog', 'dog', 'dog', 'dog', 'dog', 'dog', 'dog', 'dog', 'dog', 'dog', 'dog', 'dog', 'dog', 'dog', 'dog', 'dog', 'dog', 'dog', 'dog', 'dog', 'dog', 'dog', 'dog', 'dog', 'dog', 'dog', 'dog', 'dog', 'dog', 'dog', 'dog', 'dog', 'dog', 'dog', 'dog', 'dog', 'dog', 'dog', 'dog', 'dog', 'dog', 'dog']\n"
     ]
    }
   ],
   "source": [
    "# 設定標籤\n",
    "labels = [\"cat\"] * len(cats) + [\"dog\"] * len(dogs)\n",
    "print(labels)"
   ]
  },
  {
   "cell_type": "code",
   "execution_count": 18,
   "id": "e4a5525c",
   "metadata": {},
   "outputs": [
    {
     "name": "stdout",
     "output_type": "stream",
     "text": [
      "['reference/cats/cat.1.jpg', 'reference/cats/cat.10.jpg', 'reference/cats/cat.11.jpg', 'reference/cats/cat.12.jpg', 'reference/cats/cat.13.jpg', 'reference/cats/cat.14.jpg', 'reference/cats/cat.15.jpg', 'reference/cats/cat.16.jpg', 'reference/cats/cat.17.jpg', 'reference/cats/cat.18.jpg', 'reference/cats/cat.19.jpg', 'reference/cats/cat.2.jpg', 'reference/cats/cat.20.jpg', 'reference/cats/cat.21.jpg', 'reference/cats/cat.22.jpg', 'reference/cats/cat.23.jpg', 'reference/cats/cat.24.jpg', 'reference/cats/cat.25.jpg', 'reference/cats/cat.26.jpg', 'reference/cats/cat.27.jpg', 'reference/cats/cat.28.jpg', 'reference/cats/cat.29.jpg', 'reference/cats/cat.3.jpg', 'reference/cats/cat.30.jpg', 'reference/cats/cat.31.jpg', 'reference/cats/cat.32.jpg', 'reference/cats/cat.33.jpg', 'reference/cats/cat.34.jpg', 'reference/cats/cat.35.jpg', 'reference/cats/cat.36.jpg', 'reference/cats/cat.37.jpg', 'reference/cats/cat.38.jpg', 'reference/cats/cat.39.jpg', 'reference/cats/cat.4.jpg', 'reference/cats/cat.40.jpg', 'reference/cats/cat.41.jpg', 'reference/cats/cat.42.jpg', 'reference/cats/cat.43.jpg', 'reference/cats/cat.44.jpg', 'reference/cats/cat.45.jpg', 'reference/cats/cat.46.jpg', 'reference/cats/cat.47.jpg', 'reference/cats/cat.48.jpg', 'reference/cats/cat.49.jpg', 'reference/cats/cat.5.jpg', 'reference/cats/cat.50.jpg', 'reference/cats/cat.6.jpg', 'reference/cats/cat.7.jpg', 'reference/cats/cat.8.jpg', 'reference/cats/cat.9.jpg', 'reference/dogs/dog.1.jpg', 'reference/dogs/dog.10.jpg', 'reference/dogs/dog.11.jpg', 'reference/dogs/dog.12.jpg', 'reference/dogs/dog.13.jpg', 'reference/dogs/dog.14.jpg', 'reference/dogs/dog.15.jpg', 'reference/dogs/dog.16.jpg', 'reference/dogs/dog.17.jpg', 'reference/dogs/dog.18.jpg', 'reference/dogs/dog.19.jpg', 'reference/dogs/dog.2.jpg', 'reference/dogs/dog.20.jpg', 'reference/dogs/dog.21.jpg', 'reference/dogs/dog.22.jpg', 'reference/dogs/dog.23.jpg', 'reference/dogs/dog.24.jpg', 'reference/dogs/dog.25.jpg', 'reference/dogs/dog.26.jpg', 'reference/dogs/dog.27.jpg', 'reference/dogs/dog.28.jpg', 'reference/dogs/dog.29.jpg', 'reference/dogs/dog.3.jpg', 'reference/dogs/dog.30.jpg', 'reference/dogs/dog.31.jpg', 'reference/dogs/dog.32.jpg', 'reference/dogs/dog.33.jpg', 'reference/dogs/dog.34.jpg', 'reference/dogs/dog.35.jpg', 'reference/dogs/dog.36.jpg', 'reference/dogs/dog.37.jpg', 'reference/dogs/dog.38.jpg', 'reference/dogs/dog.39.jpg', 'reference/dogs/dog.4.jpg', 'reference/dogs/dog.40.jpg', 'reference/dogs/dog.41.jpg', 'reference/dogs/dog.42.jpg', 'reference/dogs/dog.43.jpg', 'reference/dogs/dog.44.jpg', 'reference/dogs/dog.45.jpg', 'reference/dogs/dog.46.jpg', 'reference/dogs/dog.47.jpg', 'reference/dogs/dog.48.jpg', 'reference/dogs/dog.49.jpg', 'reference/dogs/dog.5.jpg', 'reference/dogs/dog.50.jpg', 'reference/dogs/dog.6.jpg', 'reference/dogs/dog.7.jpg', 'reference/dogs/dog.8.jpg', 'reference/dogs/dog.9.jpg']\n"
     ]
    }
   ],
   "source": [
    "images = cats + dogs\n",
    "print(images)"
   ]
  },
  {
   "cell_type": "code",
   "execution_count": 3,
   "id": "abb055aa",
   "metadata": {},
   "outputs": [],
   "source": [
    "# 合併圖片和標籤\n",
    "# 資料分割\n",
    "X_train, X_test, y_train, y_test = train_test_split(images, labels, test_size=0.2, random_state=42)\n",
    "\n",
    "# 將標籤進行二元化\n",
    "lb = LabelBinarizer()\n",
    "y_train = lb.fit_transform(y_train)\n",
    "y_test = lb.transform(y_test)"
   ]
  },
  {
   "cell_type": "code",
   "execution_count": 4,
   "id": "24af9c00",
   "metadata": {},
   "outputs": [
    {
     "name": "stdout",
     "output_type": "stream",
     "text": [
      "WARNING:tensorflow:From C:\\Users\\gg750\\anaconda3\\Lib\\site-packages\\keras\\src\\backend.py:873: The name tf.get_default_graph is deprecated. Please use tf.compat.v1.get_default_graph instead.\n",
      "\n",
      "WARNING:tensorflow:From C:\\Users\\gg750\\anaconda3\\Lib\\site-packages\\keras\\src\\layers\\pooling\\max_pooling2d.py:161: The name tf.nn.max_pool is deprecated. Please use tf.nn.max_pool2d instead.\n",
      "\n"
     ]
    }
   ],
   "source": [
    "# 建立CNN模型\n",
    "model = Sequential()\n",
    "model.add(Conv2D(32, (3, 3), input_shape=(img_size[0], img_size[1], 3), activation='relu'))\n",
    "model.add(MaxPooling2D(pool_size=(2, 2)))\n",
    "model.add(Conv2D(64, (3, 3), activation='relu'))\n",
    "model.add(MaxPooling2D(pool_size=(2, 2)))\n",
    "model.add(Flatten())\n",
    "model.add(Dense(units=128, activation='relu'))\n",
    "model.add(Dense(units=1, activation='sigmoid'))"
   ]
  },
  {
   "cell_type": "code",
   "execution_count": 5,
   "id": "733cfabc",
   "metadata": {},
   "outputs": [
    {
     "name": "stdout",
     "output_type": "stream",
     "text": [
      "WARNING:tensorflow:From C:\\Users\\gg750\\anaconda3\\Lib\\site-packages\\keras\\src\\optimizers\\__init__.py:309: The name tf.train.Optimizer is deprecated. Please use tf.compat.v1.train.Optimizer instead.\n",
      "\n"
     ]
    }
   ],
   "source": [
    "# 編譯模型\n",
    "model.compile(optimizer='adam', loss='binary_crossentropy', metrics=['accuracy'])"
   ]
  },
  {
   "cell_type": "code",
   "execution_count": 6,
   "id": "59f28294",
   "metadata": {},
   "outputs": [
    {
     "name": "stdout",
     "output_type": "stream",
     "text": [
      "Epoch 1/10\n",
      "WARNING:tensorflow:From C:\\Users\\gg750\\anaconda3\\Lib\\site-packages\\keras\\src\\utils\\tf_utils.py:492: The name tf.ragged.RaggedTensorValue is deprecated. Please use tf.compat.v1.ragged.RaggedTensorValue instead.\n",
      "\n",
      "WARNING:tensorflow:From C:\\Users\\gg750\\anaconda3\\Lib\\site-packages\\keras\\src\\engine\\base_layer_utils.py:384: The name tf.executing_eagerly_outside_functions is deprecated. Please use tf.compat.v1.executing_eagerly_outside_functions instead.\n",
      "\n",
      "3/3 [==============================] - 1s 70ms/step - loss: 2.9720 - accuracy: 0.5750\n",
      "Epoch 2/10\n",
      "3/3 [==============================] - 0s 52ms/step - loss: 2.0505 - accuracy: 0.5250\n",
      "Epoch 3/10\n",
      "3/3 [==============================] - 0s 59ms/step - loss: 0.7365 - accuracy: 0.5000\n",
      "Epoch 4/10\n",
      "3/3 [==============================] - 0s 61ms/step - loss: 0.6882 - accuracy: 0.5125\n",
      "Epoch 5/10\n",
      "3/3 [==============================] - 0s 53ms/step - loss: 0.6288 - accuracy: 0.6625\n",
      "Epoch 6/10\n",
      "3/3 [==============================] - 0s 57ms/step - loss: 0.5400 - accuracy: 0.9125\n",
      "Epoch 7/10\n",
      "3/3 [==============================] - 0s 58ms/step - loss: 0.5348 - accuracy: 0.7125\n",
      "Epoch 8/10\n",
      "3/3 [==============================] - 0s 54ms/step - loss: 0.4005 - accuracy: 0.8375\n",
      "Epoch 9/10\n",
      "3/3 [==============================] - 0s 61ms/step - loss: 0.3218 - accuracy: 0.9750\n",
      "Epoch 10/10\n",
      "3/3 [==============================] - 0s 65ms/step - loss: 0.2279 - accuracy: 0.9625\n"
     ]
    },
    {
     "data": {
      "text/plain": [
       "<keras.src.callbacks.History at 0x202e83ca750>"
      ]
     },
     "execution_count": 6,
     "metadata": {},
     "output_type": "execute_result"
    }
   ],
   "source": [
    "# 圖片預處理及訓練\n",
    "def preprocess_img(img_path):\n",
    "    img = image.load_img(img_path, target_size=img_size)\n",
    "    img = image.img_to_array(img)\n",
    "    img = np.expand_dims(img, axis=0)\n",
    "    img /= 255.0  # 正規化\n",
    "    return img\n",
    "\n",
    "X_train_processed = np.vstack([preprocess_img(img) for img in X_train])\n",
    "X_test_processed = np.vstack([preprocess_img(img) for img in X_test])\n",
    "\n",
    "model.fit(X_train_processed, y_train, epochs=10, batch_size=32)"
   ]
  },
  {
   "cell_type": "code",
   "execution_count": 7,
   "id": "741f8720",
   "metadata": {},
   "outputs": [],
   "source": [
    "# 儲存訓練後的權重\n",
    "model.save_weights(\"HW4.h5\")\n",
    "\n",
    "# 載入權重\n",
    "model.load_weights(\"HW4.h5\")\n"
   ]
  },
  {
   "cell_type": "code",
   "execution_count": 8,
   "id": "7c391118",
   "metadata": {},
   "outputs": [
    {
     "name": "stdout",
     "output_type": "stream",
     "text": [
      "1/1 [==============================] - 0s 185ms/step\n",
      "Confusion Matrix:\n",
      "[[10  2]\n",
      " [ 6  2]]\n"
     ]
    },
    {
     "data": {
      "image/png": "[encoded data removed]",
      "text/plain": [
       "<Figure size 640x480 with 2 Axes>"
      ]
     },
     "metadata": {},
     "output_type": "display_data"
    }
   ],
   "source": [
    "import seaborn as sns\n",
    "import matplotlib.pyplot as plt\n",
    "# 預測測試集\n",
    "y_pred = model.predict(X_test_processed)\n",
    "y_pred_binary = (y_pred > 0.5).astype(int)\n",
    "\n",
    "# 計算混淆矩陣\n",
    "cm = confusion_matrix(y_test, y_pred_binary)\n",
    "print(\"Confusion Matrix:\")\n",
    "print(cm)\n",
    "\n",
    "sns.heatmap(cm, annot=True, fmt='g', cmap='Blues', xticklabels=['cat', 'dog'], yticklabels=['cat', 'dog'])\n",
    "plt.xlabel('Predicted')\n",
    "plt.ylabel('True')\n",
    "plt.title('Confusion Matrix')\n",
    "plt.show()"
   ]
  },
  {
   "cell_type": "code",
   "execution_count": 9,
   "id": "f8bba380",
   "metadata": {},
   "outputs": [
    {
     "name": "stdout",
     "output_type": "stream",
     "text": [
      "AUROC: 0.8020833333333334\n"
     ]
    }
   ],
   "source": [
    "# 計算AUROC\n",
    "auroc = roc_auc_score(y_test, y_pred)\n",
    "print(\"AUROC:\", auroc)"
   ]
  },
  {
   "cell_type": "code",
   "execution_count": 10,
   "id": "b790ef55",
   "metadata": {},
   "outputs": [
    {
     "name": "stdout",
     "output_type": "stream",
     "text": [
      "1/1 [==============================] - 0s 86ms/step\n"
     ]
    }
   ],
   "source": [
    "# 預測test資料夾下的20張圖片\n",
    "test_folder = \"test\"  # 替換成實際的資料夾路徑\n",
    "test_images = [os.path.join(test_folder, img) for img in os.listdir(test_folder) if img.endswith(\".jpg\")]\n",
    "X_test_real = np.vstack([preprocess_img(img) for img in test_images])\n",
    "predictions = model.predict(X_test_real)"
   ]
  },
  {
   "cell_type": "code",
   "execution_count": 11,
   "id": "7f21096d",
   "metadata": {},
   "outputs": [
    {
     "name": "stdout",
     "output_type": "stream",
     "text": [
      "test\\pic1.jpg - dog\n",
      "test\\pic10.jpg - dog\n",
      "test\\pic11.jpg - cat\n",
      "test\\pic12.jpg - dog\n",
      "test\\pic13.jpg - cat\n",
      "test\\pic14.jpg - cat\n",
      "test\\pic15.jpg - cat\n",
      "test\\pic16.jpg - cat\n",
      "test\\pic17.jpg - dog\n",
      "test\\pic18.jpg - cat\n",
      "test\\pic19.jpg - cat\n",
      "test\\pic2.jpg - dog\n",
      "test\\pic20.jpg - cat\n",
      "test\\pic3.jpg - cat\n",
      "test\\pic4.jpg - cat\n",
      "test\\pic5.jpg - cat\n",
      "test\\pic6.jpg - dog\n",
      "test\\pic7.jpg - dog\n",
      "test\\pic8.jpg - cat\n",
      "test\\pic9.jpg - cat\n"
     ]
    }
   ],
   "source": [
    "# 打印預測結果\n",
    "for i in range(len(test_images)):\n",
    "    print(f\"{test_images[i]} - {'dog' if predictions[i] > 0.5 else 'cat'}\")"
   ]
  },
  {
   "cell_type": "code",
   "execution_count": null,
   "id": "6e0a1554",
   "metadata": {},
   "outputs": [],
   "source": []
  }
 ],
 "metadata": {
  "kernelspec": {
   "display_name": "Python 3 (ipykernel)",
   "language": "python",
   "name": "python3"
  },
  "language_info": {
   "codemirror_mode": {
    "name": "ipython",
    "version": 3
   },
   "file_extension": ".py",
   "mimetype": "text/x-python",
   "name": "python",
   "nbconvert_exporter": "python",
   "pygments_lexer": "ipython3",
   "version": "3.11.4"
  }
 },
 "nbformat": 4,
 "nbformat_minor": 5
}
